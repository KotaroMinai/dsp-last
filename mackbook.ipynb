{
 "cells": [
  {
   "cell_type": "code",
   "execution_count": 26,
   "metadata": {},
   "outputs": [],
   "source": [
    "from bs4 import BeautifulSoup\n",
    "import requests\n",
    "import time\n"
   ]
  },
  {
   "cell_type": "code",
   "execution_count": 51,
   "metadata": {},
   "outputs": [],
   "source": [
    "# Macのスクレイピング先のurl\n",
    "url = 'https://review.kakaku.com/review/newreview/CategoryCD=0029/PageNo=2/'\n",
    "\n",
    "r = requests.get(url)"
   ]
  },
  {
   "cell_type": "code",
   "execution_count": 39,
   "metadata": {},
   "outputs": [
    {
     "name": "stdout",
     "output_type": "stream",
     "text": [
      "['4', '4', '4', '4', '4', '4', '4', '4', '4', '4', '4', '4', '4', '4', '4', '4', '4', '4', '4', '4', '4', '4', '4', '4', '4', '4', '4', '4', '4', '4', '4', '4', '4', '4', '4', '4', '4', '4', '4', '4', '4']\n"
     ]
    }
   ],
   "source": [
    "#確認用のため関係なし\n",
    "#stars_list = []\n",
    "#\n",
    "#soup = BeautifulSoup(r.text, 'html.parser')\n",
    "#stars4 = soup.find_all('td',class_=\"rate4\")\n",
    "#text_list = [x.string for x in tags]\n",
    "#print(text_list)"
   ]
  },
  {
   "cell_type": "code",
   "execution_count": 56,
   "metadata": {},
   "outputs": [],
   "source": [
    "# Macのスクレイピング\n",
    "stars_Mac_list = []\n",
    "\n",
    "# urlの都合上2ページ目から\n",
    "page_number = 2\n",
    "while True:\n",
    "\n",
    "    url = f'https://review.kakaku.com/review/newreview/CategoryCD=0029/PageNo={page_number}/'\n",
    "    r = requests.get(url)\n",
    "    soup = BeautifulSoup(r.text, 'html.parser')\n",
    "\n",
    "    stars = soup.find_all('td', class_=\"rate1\")\n",
    "    for i in stars:\n",
    "                star = i.get_text(strip=True)\n",
    "                stars_Mac_list.append(star)\n",
    "\n",
    "    stars = soup.find_all('td', class_=\"rate2\")\n",
    "    for i in stars:\n",
    "                star = i.get_text(strip=True)\n",
    "                stars_Mac_list.append(star)\n",
    "\n",
    "    stars = soup.find_all('td', class_=\"rate3\")\n",
    "    for i in stars:\n",
    "                star = i.get_text(strip=True)\n",
    "                stars_Mac_list.append(star)\n",
    "\n",
    "    stars = soup.find_all('td', class_=\"rate4\")\n",
    "    for i in stars:\n",
    "                star = i.get_text(strip=True)\n",
    "                stars_Mac_list.append(star)\n",
    "\n",
    "    stars = soup.find_all('td', class_=\"rate5\")\n",
    "    for i in stars:\n",
    "                star = i.get_text(strip=True)\n",
    "                stars_Mac_list.append(star)\n",
    "\n",
    "    next_page = soup.find_all('a', class_=\"arrowNext01\")\n",
    "    if not next_page:\n",
    "        break\n",
    "    page_number += 1\n",
    "\n"
   ]
  },
  {
   "cell_type": "code",
   "execution_count": 80,
   "metadata": {},
   "outputs": [],
   "source": [
    "# windowsのスクレイピング先のurl\n",
    "url = f'https://review.kakaku.com/review/K0001020024/?Page=2#tab'\n",
    "\n",
    "r = requests.get(url)"
   ]
  },
  {
   "cell_type": "code",
   "execution_count": 81,
   "metadata": {},
   "outputs": [],
   "source": [
    "\n",
    "# windowsのスクレイピング\n",
    "stars_win_list = []\n",
    "\n",
    "# urlの都合上2ページ目から\n",
    "page_number = 2\n",
    "\n",
    "while True:\n",
    "\n",
    "    url = f'https://review.kakaku.com/review/K0001020024/?Page={page_number}#tab'\n",
    "\n",
    "    r = requests.get(url)\n",
    "    soup = BeautifulSoup(r.text, 'html.parser')\n",
    "\n",
    "    stars = soup.find_all('td', class_=\"rate1\")\n",
    "    for i in stars:\n",
    "                    star = i.get_text(strip=True)\n",
    "                    stars_win_list.append(star)\n",
    "\n",
    "    stars = soup.find_all('td', class_=\"rate2\")\n",
    "    for i in stars:\n",
    "                    star = i.get_text(strip=True)\n",
    "                    stars_win_list.append(star)\n",
    "\n",
    "    stars = soup.find_all('td', class_=\"rate3\")\n",
    "    for i in stars:\n",
    "                    star = i.get_text(strip=True)\n",
    "                    stars_win_list.append(star)\n",
    "\n",
    "    stars = soup.find_all('td', class_=\"rate4\")\n",
    "    for i in stars:\n",
    "                    star = i.get_text(strip=True)\n",
    "                    stars_win_list.append(star)\n",
    "\n",
    "    stars = soup.find_all('td', class_=\"rate5\")\n",
    "    for i in stars:\n",
    "                    star = i.get_text(strip=True)\n",
    "                    stars_win_list.append(star)\n",
    "\n",
    "    next_page = soup.find_all('a', class_=\"arrowNext01\")\n",
    "    if not next_page:\n",
    "            break\n",
    "    page_number += 1\n",
    "\n"
   ]
  }
 ],
 "metadata": {
  "kernelspec": {
   "display_name": "Python 3",
   "language": "python",
   "name": "python3"
  },
  "language_info": {
   "codemirror_mode": {
    "name": "ipython",
    "version": 3
   },
   "file_extension": ".py",
   "mimetype": "text/x-python",
   "name": "python",
   "nbconvert_exporter": "python",
   "pygments_lexer": "ipython3",
   "version": "3.9.6"
  }
 },
 "nbformat": 4,
 "nbformat_minor": 2
}
