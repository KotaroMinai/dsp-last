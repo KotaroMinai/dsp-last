{
 "cells": [
  {
   "cell_type": "code",
   "execution_count": 4,
   "metadata": {},
   "outputs": [],
   "source": [
    "from bs4 import BeautifulSoup\n",
    "import requests\n",
    "import time"
   ]
  },
  {
   "cell_type": "code",
   "execution_count": 3,
   "metadata": {},
   "outputs": [],
   "source": [
    "# Mackのスクレイピング先のurl\n",
    "url = 'https://review.kakaku.com/review/newreview/CategoryCD=0029/'\n",
    "r = requests.get(url)"
   ]
  },
  {
   "cell_type": "code",
   "execution_count": 7,
   "metadata": {},
   "outputs": [],
   "source": [
    "import requests\n",
    "from bs4 import BeautifulSoup\n",
    "import time\n",
    "\n",
    "page_number = 1\n",
    "\n",
    "while True:  # 無限ループを使用する\n",
    "    time.sleep(1)\n",
    "    url = f'https://review.kakaku.com/review/newreview/CategoryCD=0029/?page={page_number}'\n",
    "\n",
    "    # ページのHTMLを取得\n",
    "    response = requests.get(url)\n",
    "\n",
    "    # HTTPステータスコードが正常でない場合は処理を中断\n",
    "    if response.status_code != 200:\n",
    "        print(f\"Failed to retrieve page {page_number}. Status Code: {response.status_code}\")\n",
    "        break\n",
    "\n",
    "    # BeautifulSoupを使用してHTMLを解析\n",
    "    html_soup = BeautifulSoup(response.text, 'html.parser')\n",
    "\n",
    "    # 'next_page'クラスのリンクを取得\n",
    "    next_link = html_soup.find('a', class_=\"next_page\")\n",
    "\n",
    "    if next_link:\n",
    "        page_number += 1\n",
    "    else:\n",
    "        break\n",
    "\n"
   ]
  }
 ],
 "metadata": {
  "language_info": {
   "name": "python"
  }
 },
 "nbformat": 4,
 "nbformat_minor": 2
}
